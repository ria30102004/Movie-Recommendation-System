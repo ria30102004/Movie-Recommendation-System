{
  "nbformat": 4,
  "nbformat_minor": 0,
  "metadata": {
    "colab": {
      "provenance": [],
      "authorship_tag": "ABX9TyNPoUlqXdMTnZx06j4S3qH5",
      "include_colab_link": true
    },
    "kernelspec": {
      "name": "python3",
      "display_name": "Python 3"
    },
    "language_info": {
      "name": "python"
    }
  },
  "cells": [
    {
      "cell_type": "markdown",
      "metadata": {
        "id": "view-in-github",
        "colab_type": "text"
      },
      "source": [
        "<a href=\"https://colab.research.google.com/github/ria30102004/Movie-Recommendation-System/blob/master/movieRecommend.ipynb\" target=\"_parent\"><img src=\"https://colab.research.google.com/assets/colab-badge.svg\" alt=\"Open In Colab\"/></a>"
      ]
    },
    {
      "cell_type": "markdown",
      "source": [
        "Title of Project\n",
        "\n",
        "---\n",
        "\n",
        "\n",
        "\n",
        "Movie Recommendation System"
      ],
      "metadata": {
        "id": "g7Yq5Zf7CeUE"
      }
    },
    {
      "cell_type": "markdown",
      "source": [
        "Objective\n",
        "\n",
        "---\n",
        "To build a recommendation system that suggests movies based on features like genre, keywords, tagline, cast, and director.\n"
      ],
      "metadata": {
        "id": "MbMuIgJ8DOTT"
      }
    },
    {
      "cell_type": "markdown",
      "source": [
        "Data Source\n",
        "\n",
        "\n",
        "---\n",
        "Used Movies Recommendation.csv dataset from github of YBI Foundation\n"
      ],
      "metadata": {
        "id": "V4qFulNIDUwS"
      }
    },
    {
      "cell_type": "markdown",
      "source": [
        "Import Library\n",
        "\n",
        "---\n",
        "\n"
      ],
      "metadata": {
        "id": "00BFG1DgDoE3"
      }
    },
    {
      "cell_type": "code",
      "source": [
        "import pandas as pd"
      ],
      "metadata": {
        "id": "N5L7P5otDNF2"
      },
      "execution_count": null,
      "outputs": []
    },
    {
      "cell_type": "markdown",
      "source": [
        "Import Data\n",
        "\n",
        "---\n",
        "\n"
      ],
      "metadata": {
        "id": "-klldv3fD1ku"
      }
    },
    {
      "cell_type": "code",
      "source": [
        "movie=pd.read_csv('https://github.com/YBI-Foundation/Dataset/raw/main/Movies%20Recommendation.csv')"
      ],
      "metadata": {
        "id": "lmnRQgEPDzZm"
      },
      "execution_count": null,
      "outputs": []
    },
    {
      "cell_type": "markdown",
      "source": [
        "Describe Data"
      ],
      "metadata": {
        "id": "9PXswQ9GD5MB"
      }
    },
    {
      "cell_type": "code",
      "execution_count": null,
      "metadata": {
        "colab": {
          "base_uri": "https://localhost:8080/"
        },
        "collapsed": true,
        "id": "PShOUIlK3700",
        "outputId": "fd9965d3-3076-4e4c-ab85-721806333076"
      },
      "outputs": [
        {
          "output_type": "stream",
          "name": "stdout",
          "text": [
            "<class 'pandas.core.frame.DataFrame'>\n",
            "RangeIndex: 4760 entries, 0 to 4759\n",
            "Data columns (total 21 columns):\n",
            " #   Column                    Non-Null Count  Dtype  \n",
            "---  ------                    --------------  -----  \n",
            " 0   Movie_ID                  4760 non-null   int64  \n",
            " 1   Movie_Title               4760 non-null   object \n",
            " 2   Movie_Genre               4760 non-null   object \n",
            " 3   Movie_Language            4760 non-null   object \n",
            " 4   Movie_Budget              4760 non-null   int64  \n",
            " 5   Movie_Popularity          4760 non-null   float64\n",
            " 6   Movie_Release_Date        4760 non-null   object \n",
            " 7   Movie_Revenue             4760 non-null   int64  \n",
            " 8   Movie_Runtime             4758 non-null   float64\n",
            " 9   Movie_Vote                4760 non-null   float64\n",
            " 10  Movie_Vote_Count          4760 non-null   int64  \n",
            " 11  Movie_Homepage            1699 non-null   object \n",
            " 12  Movie_Keywords            4373 non-null   object \n",
            " 13  Movie_Overview            4757 non-null   object \n",
            " 14  Movie_Production_House    4760 non-null   object \n",
            " 15  Movie_Production_Country  4760 non-null   object \n",
            " 16  Movie_Spoken_Language     4760 non-null   object \n",
            " 17  Movie_Tagline             3942 non-null   object \n",
            " 18  Movie_Cast                4733 non-null   object \n",
            " 19  Movie_Crew                4760 non-null   object \n",
            " 20  Movie_Director            4738 non-null   object \n",
            "dtypes: float64(3), int64(4), object(14)\n",
            "memory usage: 781.1+ KB\n",
            "None\n",
            "          Movie_ID  Movie_Budget  Movie_Popularity  Movie_Revenue  \\\n",
            "count  4760.000000  4.760000e+03       4760.000000   4.760000e+03   \n",
            "mean   2382.566387  2.920129e+07         21.599510   8.263743e+07   \n",
            "std    1377.270159  4.075620e+07         31.887919   1.630554e+08   \n",
            "min       1.000000  0.000000e+00          0.000372   0.000000e+00   \n",
            "25%    1190.750000  9.257500e+05          4.807074   0.000000e+00   \n",
            "50%    2380.500000  1.500000e+07         13.119058   1.944716e+07   \n",
            "75%    3572.250000  4.000000e+07         28.411929   9.341276e+07   \n",
            "max    4788.000000  3.800000e+08        875.581305   2.787965e+09   \n",
            "\n",
            "       Movie_Runtime   Movie_Vote  Movie_Vote_Count  \n",
            "count    4758.000000  4760.000000       4760.000000  \n",
            "mean      107.184111     6.113866        692.508403  \n",
            "std        21.960332     1.141294       1235.007337  \n",
            "min         0.000000     0.000000          0.000000  \n",
            "25%        94.000000     5.600000         55.000000  \n",
            "50%       104.000000     6.200000        238.000000  \n",
            "75%       118.000000     6.800000        740.250000  \n",
            "max       338.000000    10.000000      13752.000000  \n",
            "   Movie_ID      Movie_Title                       Movie_Genre Movie_Language  \\\n",
            "0         1       Four Rooms                      Crime Comedy             en   \n",
            "1         2        Star Wars  Adventure Action Science Fiction             en   \n",
            "2         3     Finding Nemo                  Animation Family             en   \n",
            "3         4     Forrest Gump              Comedy Drama Romance             en   \n",
            "4         5  American Beauty                             Drama             en   \n",
            "\n",
            "   Movie_Budget  Movie_Popularity Movie_Release_Date  Movie_Revenue  \\\n",
            "0       4000000         22.876230         09-12-1995        4300000   \n",
            "1      11000000        126.393695         25-05-1977      775398007   \n",
            "2      94000000         85.688789         30-05-2003      940335536   \n",
            "3      55000000        138.133331         06-07-1994      677945399   \n",
            "4      15000000         80.878605         15-09-1999      356296601   \n",
            "\n",
            "   Movie_Runtime  Movie_Vote  ...  \\\n",
            "0           98.0         6.5  ...   \n",
            "1          121.0         8.1  ...   \n",
            "2          100.0         7.6  ...   \n",
            "3          142.0         8.2  ...   \n",
            "4          122.0         7.9  ...   \n",
            "\n",
            "                                      Movie_Homepage  \\\n",
            "0                                                NaN   \n",
            "1  http://www.starwars.com/films/star-wars-episod...   \n",
            "2              http://movies.disney.com/finding-nemo   \n",
            "3                                                NaN   \n",
            "4                      http://www.dreamworks.com/ab/   \n",
            "\n",
            "                                      Movie_Keywords  \\\n",
            "0          hotel new year's eve witch bet hotel room   \n",
            "1        android galaxy hermit death star lightsaber   \n",
            "2  father son relationship harbor underwater fish...   \n",
            "3  vietnam veteran hippie mentally disabled runni...   \n",
            "4  male nudity female nudity adultery midlife cri...   \n",
            "\n",
            "                                      Movie_Overview  \\\n",
            "0  It's Ted the Bellhop's first night on the job....   \n",
            "1  Princess Leia is captured and held hostage by ...   \n",
            "2  Nemo, an adventurous young clownfish, is unexp...   \n",
            "3  A man with a low IQ has accomplished great thi...   \n",
            "4  Lester Burnham, a depressed suburban father in...   \n",
            "\n",
            "                              Movie_Production_House  \\\n",
            "0  [{\"name\": \"Miramax Films\", \"id\": 14}, {\"name\":...   \n",
            "1  [{\"name\": \"Lucasfilm\", \"id\": 1}, {\"name\": \"Twe...   \n",
            "2     [{\"name\": \"Pixar Animation Studios\", \"id\": 3}]   \n",
            "3          [{\"name\": \"Paramount Pictures\", \"id\": 4}]   \n",
            "4  [{\"name\": \"DreamWorks SKG\", \"id\": 27}, {\"name\"...   \n",
            "\n",
            "                            Movie_Production_Country  \\\n",
            "0  [{\"iso_3166_1\": \"US\", \"name\": \"United States o...   \n",
            "1  [{\"iso_3166_1\": \"US\", \"name\": \"United States o...   \n",
            "2  [{\"iso_3166_1\": \"US\", \"name\": \"United States o...   \n",
            "3  [{\"iso_3166_1\": \"US\", \"name\": \"United States o...   \n",
            "4  [{\"iso_3166_1\": \"US\", \"name\": \"United States o...   \n",
            "\n",
            "                      Movie_Spoken_Language  \\\n",
            "0  [{\"iso_639_1\": \"en\", \"name\": \"English\"}]   \n",
            "1  [{\"iso_639_1\": \"en\", \"name\": \"English\"}]   \n",
            "2  [{\"iso_639_1\": \"en\", \"name\": \"English\"}]   \n",
            "3  [{\"iso_639_1\": \"en\", \"name\": \"English\"}]   \n",
            "4  [{\"iso_639_1\": \"en\", \"name\": \"English\"}]   \n",
            "\n",
            "                                       Movie_Tagline  \\\n",
            "0  Twelve outrageous guests. Four scandalous requ...   \n",
            "1       A long time ago in a galaxy far, far away...   \n",
            "2  There are 3.7 trillion fish in the ocean, they...   \n",
            "3  The world will never be the same, once you've ...   \n",
            "4                                       Look closer.   \n",
            "\n",
            "                                          Movie_Cast  \\\n",
            "0  Tim Roth Antonio Banderas Jennifer Beals Madon...   \n",
            "1  Mark Hamill Harrison Ford Carrie Fisher Peter ...   \n",
            "2  Albert Brooks Ellen DeGeneres Alexander Gould ...   \n",
            "3  Tom Hanks Robin Wright Gary Sinise Mykelti Wil...   \n",
            "4  Kevin Spacey Annette Bening Thora Birch Wes Be...   \n",
            "\n",
            "                                          Movie_Crew   Movie_Director  \n",
            "0  [{'name': 'Allison Anders', 'gender': 1, 'depa...   Allison Anders  \n",
            "1  [{'name': 'George Lucas', 'gender': 2, 'depart...     George Lucas  \n",
            "2  [{'name': 'Andrew Stanton', 'gender': 2, 'depa...   Andrew Stanton  \n",
            "3  [{'name': 'Alan Silvestri', 'gender': 2, 'depa...  Robert Zemeckis  \n",
            "4  [{'name': 'Thomas Newman', 'gender': 2, 'depar...       Sam Mendes  \n",
            "\n",
            "[5 rows x 21 columns]\n",
            "Index(['Movie_ID', 'Movie_Title', 'Movie_Genre', 'Movie_Language',\n",
            "       'Movie_Budget', 'Movie_Popularity', 'Movie_Release_Date',\n",
            "       'Movie_Revenue', 'Movie_Runtime', 'Movie_Vote', 'Movie_Vote_Count',\n",
            "       'Movie_Homepage', 'Movie_Keywords', 'Movie_Overview',\n",
            "       'Movie_Production_House', 'Movie_Production_Country',\n",
            "       'Movie_Spoken_Language', 'Movie_Tagline', 'Movie_Cast', 'Movie_Crew',\n",
            "       'Movie_Director'],\n",
            "      dtype='object')\n"
          ]
        }
      ],
      "source": [
        "print(movie.info())\n",
        "print(movie.describe())\n",
        "print(movie.head())\n",
        "print(movie.columns)"
      ]
    },
    {
      "cell_type": "markdown",
      "source": [
        "Data Preprocessing\n",
        "\n",
        "---\n",
        "\n"
      ],
      "metadata": {
        "id": "ShE83gN5E8f-"
      }
    },
    {
      "cell_type": "code",
      "source": [
        "df_features=movie[['Movie_Genre','Movie_Keywords','Movie_Tagline', 'Movie_Cast', 'Movie_Director']].fillna('')\n",
        "df_features.shape"
      ],
      "metadata": {
        "colab": {
          "base_uri": "https://localhost:8080/"
        },
        "collapsed": true,
        "id": "YRErAPn46EBM",
        "outputId": "869de3e1-0c35-42f3-e8d7-1fc5f9f828df"
      },
      "execution_count": null,
      "outputs": [
        {
          "output_type": "execute_result",
          "data": {
            "text/plain": [
              "(4760, 5)"
            ]
          },
          "metadata": {},
          "execution_count": 38
        }
      ]
    },
    {
      "cell_type": "markdown",
      "source": [
        "Define target Variable(y) and Feature variables(X)\n",
        "\n",
        "---\n",
        "\n"
      ],
      "metadata": {
        "id": "VKEbg_FxFCg-"
      }
    },
    {
      "cell_type": "code",
      "source": [
        "\n",
        "X=df_features['Movie_Genre']+' '+df_features['Movie_Keywords']+' '+df_features['Movie_Tagline']+' '+df_features['Movie_Cast']+' '+df_features['Movie_Director']\n",
        "print(X.head)"
      ],
      "metadata": {
        "colab": {
          "base_uri": "https://localhost:8080/"
        },
        "id": "PC7zWnZ26Qw7",
        "outputId": "349f8452-03ab-4359-c836-247414014823"
      },
      "execution_count": null,
      "outputs": [
        {
          "output_type": "stream",
          "name": "stdout",
          "text": [
            "<bound method NDFrame.head of 0       Crime Comedy hotel new year's eve witch bet ho...\n",
            "1       Adventure Action Science Fiction android galax...\n",
            "2       Animation Family father son relationship harbo...\n",
            "3       Comedy Drama Romance vietnam veteran hippie me...\n",
            "4       Drama male nudity female nudity adultery midli...\n",
            "                              ...                        \n",
            "4755    Horror  The hot spot where Satan's waitin'. Li...\n",
            "4756    Comedy Family Drama  It’s better to stand out ...\n",
            "4757    Thriller Drama christian film sex trafficking ...\n",
            "4758                                           Family    \n",
            "4759    Documentary music actors legendary perfomer cl...\n",
            "Length: 4760, dtype: object>\n"
          ]
        }
      ]
    },
    {
      "cell_type": "markdown",
      "source": [
        "Modeling\n",
        "\n",
        "\n",
        "---\n",
        "\n"
      ],
      "metadata": {
        "id": "fxDkuUTuFWHi"
      }
    },
    {
      "cell_type": "code",
      "source": [
        "from sklearn.feature_extraction.text import TfidfVectorizer\n",
        "\n",
        "tfidf = TfidfVectorizer()\n",
        "\n",
        "X=tfidf.fit_transform(X)\n",
        "X.shape\n",
        "from sklearn.metrics.pairwise import cosine_similarity\n",
        "\n",
        "Similarity_score=cosine_similarity(X)\n",
        "Similarity_score\n"
      ],
      "metadata": {
        "colab": {
          "base_uri": "https://localhost:8080/"
        },
        "id": "IComNaXS6xHU",
        "outputId": "0c68670d-0ab4-4a0f-9e2b-18d059ac060b"
      },
      "execution_count": null,
      "outputs": [
        {
          "output_type": "execute_result",
          "data": {
            "text/plain": [
              "array([[1.        , 0.01351235, 0.03570468, ..., 0.        , 0.        ,\n",
              "        0.        ],\n",
              "       [0.01351235, 1.        , 0.00806674, ..., 0.        , 0.        ,\n",
              "        0.        ],\n",
              "       [0.03570468, 0.00806674, 1.        , ..., 0.        , 0.08014876,\n",
              "        0.        ],\n",
              "       ...,\n",
              "       [0.        , 0.        , 0.        , ..., 1.        , 0.        ,\n",
              "        0.        ],\n",
              "       [0.        , 0.        , 0.08014876, ..., 0.        , 1.        ,\n",
              "        0.        ],\n",
              "       [0.        , 0.        , 0.        , ..., 0.        , 0.        ,\n",
              "        1.        ]])"
            ]
          },
          "metadata": {},
          "execution_count": 40
        }
      ]
    },
    {
      "cell_type": "markdown",
      "source": [
        "Prediction\n",
        "\n",
        "---\n",
        "\n"
      ],
      "metadata": {
        "id": "8zC4s_bTHh6s"
      }
    },
    {
      "cell_type": "code",
      "source": [
        "favourite_movie = input('Enter your favorite movie name:')\n",
        "All_movies = movie['Movie_Title'].tolist()\n",
        "Close_match = difflib.get_close_matches(favourite_movie, All_movies)\n",
        "\n",
        "if not Close_match:\n",
        "    print(\"No close match found for '{}'\".format(favourite_movie))\n",
        "else:\n",
        "    print(\"Close match found:\", Close_match[0])\n",
        "    Index = movie[movie.Movie_Title == Close_match[0]]['Movie_ID'].values\n",
        "\n",
        "    if len(Index) == 0:\n",
        "        print(\"No movie ID found for '{}'\".format(Close_match[0]))\n",
        "    else:\n",
        "        Index = Index[0]\n",
        "        Recommendation_scores = list(enumerate(Similarity_score[Index]))\n",
        "\n",
        "        if not Recommendation_scores:\n",
        "            print(\"No recommendation scores available for '{}'\".format(Close_match[0]))\n",
        "        else:\n",
        "            Sorted = sorted(Recommendation_scores, key=lambda x: x[1], reverse=True)\n",
        "            print('Top 30 movies suggested for you:\\n')\n",
        "            for i, film in enumerate(Sorted[:30], 1):\n",
        "                index = film[0]\n",
        "                title = movie[movie.index == index]['Movie_Title'].values[0]\n",
        "                print('{}. {}'.format(i, title))\n"
      ],
      "metadata": {
        "colab": {
          "base_uri": "https://localhost:8080/"
        },
        "id": "TuIWmi6p6_Cw",
        "outputId": "10b9383c-fc1f-4130-c21d-d6290f8aacb8"
      },
      "execution_count": null,
      "outputs": [
        {
          "output_type": "stream",
          "name": "stdout",
          "text": [
            "Enter your favorite movie name:Bridget Jones\n",
            "Close match found: Bridget Jones's Diary\n",
            "Top 30 movies suggested for you:\n",
            "\n",
            "1. When Harry Met Sally...\n",
            "2. The Story of Us\n",
            "3. Kate & Leopold\n",
            "4. Undiscovered\n",
            "5. Return of the Jedi\n",
            "6. The Bucket List\n",
            "7. The American President\n",
            "8. Proof of Life\n",
            "9. Austin Powers in Goldmember\n",
            "10. The Empire Strikes Back\n",
            "11. Madagascar: Escape 2 Africa\n",
            "12. Boys and Girls\n",
            "13. Autumn in New York\n",
            "14. Flipped\n",
            "15. Enough\n",
            "16. Analyze This\n",
            "17. RED\n",
            "18. America's Sweethearts\n",
            "19. Highlander: The Final Dimension\n",
            "20. The Object of My Affection\n",
            "21. City of Angels\n",
            "22. In the Land of Women\n",
            "23. Meet Dave\n",
            "24. Laws of Attraction\n",
            "25. Griff the Invisible\n",
            "26. Alex & Emma\n",
            "27. Date Night\n",
            "28. Donnie Brasco\n",
            "29. Running with Scissors\n",
            "30. You've Got Mail\n"
          ]
        }
      ]
    },
    {
      "cell_type": "markdown",
      "source": [
        "Explanation\n",
        "\n",
        "---\n",
        "\n",
        "This project builds a movie recommendation system. By combining the features Movie_Genre, Movie_Keywords, Movie_Tagline, Movie_Cast, and Movie_Director, we transform these features into a TF-IDF matrix and compute cosine similarity to recommend movies that are similar to a given movie. The recommendations are based on the textual similarity of these features, allowing users to discover movies with similar attributes."
      ],
      "metadata": {
        "id": "6-e_1DVXIMyY"
      }
    }
  ]
}